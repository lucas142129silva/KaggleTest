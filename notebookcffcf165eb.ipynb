{
 "cells": [
  {
   "cell_type": "code",
   "execution_count": 1,
   "id": "b3aef36c",
   "metadata": {
    "_cell_guid": "b1076dfc-b9ad-4769-8c92-a6c4dae69d19",
    "_uuid": "8f2839f25d086af736a60e9eeb907d3b93b6e0e5",
    "execution": {
     "iopub.execute_input": "2023-08-24T00:15:37.872674Z",
     "iopub.status.busy": "2023-08-24T00:15:37.872182Z",
     "iopub.status.idle": "2023-08-24T00:15:37.886154Z",
     "shell.execute_reply": "2023-08-24T00:15:37.885014Z"
    },
    "papermill": {
     "duration": 0.022731,
     "end_time": "2023-08-24T00:15:37.889102",
     "exception": false,
     "start_time": "2023-08-24T00:15:37.866371",
     "status": "completed"
    },
    "tags": []
   },
   "outputs": [],
   "source": [
    "# This Python 3 environment comes with many helpful analytics libraries installed\n",
    "# It is defined by the kaggle/python Docker image: https://github.com/kaggle/docker-python\n",
    "# For example, here's several helpful packages to load\n",
    "\n",
    "import numpy as np # linear algebra\n",
    "import pandas as pd # data processing, CSV file I/O (e.g. pd.read_csv)\n",
    "\n",
    "# Input data files are available in the read-only \"../input/\" directory\n",
    "# For example, running this (by clicking run or pressing Shift+Enter) will list all files under the input directory\n",
    "\n",
    "import os\n",
    "for dirname, _, filenames in os.walk('/kaggle/input'):\n",
    "    for filename in filenames:\n",
    "        print(os.path.join(dirname, filename))\n",
    "\n",
    "# You can write up to 20GB to the current directory (/kaggle/working/) that gets preserved as output when you create a version using \"Save & Run All\" \n",
    "# You can also write temporary files to /kaggle/temp/, but they won't be saved outside of the current session"
   ]
  },
  {
   "cell_type": "code",
   "execution_count": 2,
   "id": "05a951c6",
   "metadata": {
    "execution": {
     "iopub.execute_input": "2023-08-24T00:15:37.896598Z",
     "iopub.status.busy": "2023-08-24T00:15:37.896155Z",
     "iopub.status.idle": "2023-08-24T00:15:37.906141Z",
     "shell.execute_reply": "2023-08-24T00:15:37.904659Z"
    },
    "papermill": {
     "duration": 0.017102,
     "end_time": "2023-08-24T00:15:37.909080",
     "exception": false,
     "start_time": "2023-08-24T00:15:37.891978",
     "status": "completed"
    },
    "tags": []
   },
   "outputs": [],
   "source": [
    "dados = pd.DataFrame({\"a\":[1, 2, 3], \"b\":[4, 5, 6]})"
   ]
  },
  {
   "cell_type": "code",
   "execution_count": 3,
   "id": "72bfaca2",
   "metadata": {
    "execution": {
     "iopub.execute_input": "2023-08-24T00:15:37.916925Z",
     "iopub.status.busy": "2023-08-24T00:15:37.915782Z",
     "iopub.status.idle": "2023-08-24T00:15:37.939386Z",
     "shell.execute_reply": "2023-08-24T00:15:37.938122Z"
    },
    "papermill": {
     "duration": 0.030637,
     "end_time": "2023-08-24T00:15:37.942383",
     "exception": false,
     "start_time": "2023-08-24T00:15:37.911746",
     "status": "completed"
    },
    "tags": []
   },
   "outputs": [
    {
     "data": {
      "text/html": [
       "<div>\n",
       "<style scoped>\n",
       "    .dataframe tbody tr th:only-of-type {\n",
       "        vertical-align: middle;\n",
       "    }\n",
       "\n",
       "    .dataframe tbody tr th {\n",
       "        vertical-align: top;\n",
       "    }\n",
       "\n",
       "    .dataframe thead th {\n",
       "        text-align: right;\n",
       "    }\n",
       "</style>\n",
       "<table border=\"1\" class=\"dataframe\">\n",
       "  <thead>\n",
       "    <tr style=\"text-align: right;\">\n",
       "      <th></th>\n",
       "      <th>a</th>\n",
       "      <th>b</th>\n",
       "    </tr>\n",
       "  </thead>\n",
       "  <tbody>\n",
       "    <tr>\n",
       "      <th>0</th>\n",
       "      <td>1</td>\n",
       "      <td>4</td>\n",
       "    </tr>\n",
       "    <tr>\n",
       "      <th>1</th>\n",
       "      <td>2</td>\n",
       "      <td>5</td>\n",
       "    </tr>\n",
       "    <tr>\n",
       "      <th>2</th>\n",
       "      <td>3</td>\n",
       "      <td>6</td>\n",
       "    </tr>\n",
       "  </tbody>\n",
       "</table>\n",
       "</div>"
      ],
      "text/plain": [
       "   a  b\n",
       "0  1  4\n",
       "1  2  5\n",
       "2  3  6"
      ]
     },
     "execution_count": 3,
     "metadata": {},
     "output_type": "execute_result"
    }
   ],
   "source": [
    "dados"
   ]
  },
  {
   "cell_type": "code",
   "execution_count": 4,
   "id": "6fc36518",
   "metadata": {
    "execution": {
     "iopub.execute_input": "2023-08-24T00:15:37.950067Z",
     "iopub.status.busy": "2023-08-24T00:15:37.949635Z",
     "iopub.status.idle": "2023-08-24T00:15:37.961999Z",
     "shell.execute_reply": "2023-08-24T00:15:37.960954Z"
    },
    "papermill": {
     "duration": 0.019388,
     "end_time": "2023-08-24T00:15:37.964689",
     "exception": false,
     "start_time": "2023-08-24T00:15:37.945301",
     "status": "completed"
    },
    "tags": []
   },
   "outputs": [],
   "source": [
    "dados.to_csv(\"./dados.csv\")"
   ]
  }
 ],
 "metadata": {
  "kernelspec": {
   "display_name": "Python 3",
   "language": "python",
   "name": "python3"
  },
  "language_info": {
   "codemirror_mode": {
    "name": "ipython",
    "version": 3
   },
   "file_extension": ".py",
   "mimetype": "text/x-python",
   "name": "python",
   "nbconvert_exporter": "python",
   "pygments_lexer": "ipython3",
   "version": "3.10.12"
  },
  "papermill": {
   "default_parameters": {},
   "duration": 13.571681,
   "end_time": "2023-08-24T00:15:39.191851",
   "environment_variables": {},
   "exception": null,
   "input_path": "__notebook__.ipynb",
   "output_path": "__notebook__.ipynb",
   "parameters": {},
   "start_time": "2023-08-24T00:15:25.620170",
   "version": "2.4.0"
  }
 },
 "nbformat": 4,
 "nbformat_minor": 5
}
